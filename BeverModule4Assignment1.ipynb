{
 "cells": [
  {
   "cell_type": "markdown",
   "metadata": {},
   "source": [
    "# Web Mining and Applied NLP (44-620)\n",
    "\n",
    "## Requests, JSON, and NLP\n",
    "\n",
    "### Student Name: Sammie Bever\n",
    "https://github.com/s520250/BeverModule4Assignment1\n",
    "\n",
    "Perform the tasks described in the Markdown cells below.  When you have completed the assignment make sure your code cells have all been run (and have output beneath them) and ensure you have committed and pushed ALL of your changes to your assignment repository.\n",
    "\n",
    "Make sure you have [installed spaCy and its pipeline](https://spacy.io/usage#quickstart) and [spaCyTextBlob](https://spacy.io/universe/project/spacy-textblob)\n",
    "\n",
    "Every question that requires you to write code will have a code cell underneath it; you may either write your entire solution in that cell or write it in a python file (`.py`), then import and run the appropriate code to answer the question.\n",
    "\n",
    "This assignment requires that you write additional files (either JSON or pickle files); make sure to submit those files in your repository as well."
   ]
  },
  {
   "cell_type": "markdown",
   "metadata": {},
   "source": [
    "# Question 1"
   ]
  },
  {
   "cell_type": "markdown",
   "metadata": {},
   "source": [
    "1. The following code accesses the [lyrics.ovh](https://lyricsovh.docs.apiary.io/#reference/0/lyrics-of-a-song/search) public api, searches for the lyrics of a song, and stores it in a dictionary object.  Write the resulting json to a file (either a JSON file or a pickle file; you choose). You will read in the contents of this file for future questions so we do not need to frequently access the API."
   ]
  },
  {
   "cell_type": "markdown",
   "metadata": {},
   "source": [
    "**Please note:** I was unable to get any of the lyrical API links to work, so I downloaded files from Kaggle and converted them to JSON files to use for this assignment."
   ]
  },
  {
   "cell_type": "code",
   "execution_count": 1,
   "metadata": {},
   "outputs": [],
   "source": [
    "# converted CSV file downloaded from Kaggle to a JSON file\n",
    "import csv\n",
    "import json\n",
    "def make_json(csvFilePath, jsonFilePath):\n",
    "    data = {}\n",
    "    with open(csvFilePath, encoding='utf-8') as csvf:\n",
    "        csvReader = csv.DictReader(csvf)\n",
    "        for rows in csvReader:\n",
    "            key = rows['']\n",
    "            data[key] = rows\n",
    "    with open(jsonFilePath, 'w', encoding='utf-8') as jsonf:\n",
    "        jsonf.write(json.dumps(data, indent=4))\n",
    "csvFilePath = r'C:\\Users\\Sammie\\Documents\\Northwest\\44-620\\Module 4\\Lyrics\\TaylorSwift1.csv'\n",
    "jsonFilePath = r'C:\\Users\\Sammie\\Documents\\Northwest\\44-620\\Module 4\\Lyrics\\TaylorSwift1.txt'\n",
    "\n",
    "make_json(csvFilePath, jsonFilePath)"
   ]
  },
  {
   "cell_type": "code",
   "execution_count": 2,
   "metadata": {},
   "outputs": [
    {
     "data": {
      "text/html": [
       "<div>\n",
       "<style scoped>\n",
       "    .dataframe tbody tr th:only-of-type {\n",
       "        vertical-align: middle;\n",
       "    }\n",
       "\n",
       "    .dataframe tbody tr th {\n",
       "        vertical-align: top;\n",
       "    }\n",
       "\n",
       "    .dataframe thead th {\n",
       "        text-align: right;\n",
       "    }\n",
       "</style>\n",
       "<table border=\"1\" class=\"dataframe\">\n",
       "  <thead>\n",
       "    <tr style=\"text-align: right;\">\n",
       "      <th></th>\n",
       "      <th>Artist</th>\n",
       "      <th>Title</th>\n",
       "      <th>Album</th>\n",
       "      <th>Date</th>\n",
       "      <th>Lyric</th>\n",
       "    </tr>\n",
       "  </thead>\n",
       "  <tbody>\n",
       "    <tr>\n",
       "      <th>0</th>\n",
       "      <td>Taylor Swift</td>\n",
       "      <td>​cardigan</td>\n",
       "      <td>folklore</td>\n",
       "      <td>2020-07-24</td>\n",
       "      <td>vintage tee brand new phone high heels on cobblestones when you are young they assume you know nothing sequin smile black lipstick sensual politics when you are young they assume you know nothing   but i knew you dancin' in your levi's drunk under a streetlight i i knew you hand under my sweatshirt baby kiss it better i  refrain and when i felt like i was an old cardigan under someone's bed you put me on and said i was your favorite   a friend to all is a friend to none chase two girls lose the one when you are young they assume you know nothing   but i knew you playing hideandseek and giving me your weekends i i knew you your heartbeat on the high line once in twenty lifetimes i  refrain and when i felt like i was an old cardigan under someone's bed you put me on and said i was your favorite   to kiss in cars and downtown bars was all we needed you drew stars around my scars but now i'm bleedin'   'cause i knew you steppin' on the last train marked me like a bloodstain i i knew you tried to change the ending peter losing wendy i i knew you leavin' like a father running like water i and when you are young they assume you know nothing   but i knew you'd linger like a tattoo kiss i knew you'd haunt all of my whatifs the smell of smoke would hang around this long 'cause i knew everything when i was young i knew i'd curse you for the longest time chasin' shadows in the grocery line i knew you'd miss me once the thrill expired and you'd be standin' in my front porch light and i knew you'd come back to me you'd come back to me and you'd come back to me and you'd come back  refrain and when i felt like i was an old cardigan under someone's bed you put me on and said i was your favorite</td>\n",
       "    </tr>\n",
       "    <tr>\n",
       "      <th>1</th>\n",
       "      <td>Taylor Swift</td>\n",
       "      <td>​exile</td>\n",
       "      <td>folklore</td>\n",
       "      <td>2020-07-24</td>\n",
       "      <td>justin vernon i can see you standing honey with his arms around your body laughin' but the joke's not funny at all and it took you five whole minutes to pack us up and leave me with it holdin' all this love out here in the hall   justin vernon i think i've seen this film before and i didn't like the ending you're not my homeland anymore so what am i defending now you were my town now i'm in exile seein' you out i think i've seen this film before  post justin vernon ooh ooh ooh   taylor swift i can see you starin' honey like he's just your understudy like you'd get your knuckles bloody for me second third and hundredth chances balancin' on breaking branches those eyes add insult to injury   taylor swift i think i've seen this film before and i didn't like the ending i'm not your problem anymore so who am i offending now you were my crown now i'm in exile seein' you out i think i've seen this film before so i'm leaving out the side door   justin vernon taylor swift  both so step right out there is no amount of crying i can do for you all this time we always walked a very thin line you didn't even hear me out you didn't even hear me out you never gave a warning sign i gave so many signs all this time i never learned to read your mind never learned to read my mind i couldn't turn things around you never turned things around 'cause you never gave a warning sign i gave so many signs so many signs so many signs you didn't even see the signs   taylor swift  justin vernon taylor swift i think i've seen this film before and i didn't like the ending you're not my homeland anymore so what am i defending now you were my town now i'm in exile seein' you out i think i've seen this film before so i'm leavin' out the side door   justin vernon  taylor swift so step right out there is no amount of crying i can do for you all this time we always walked a very thin line you didn't even hear me out didn't even hear me out you never gave a warning sign i gave so many signs all this ti...</td>\n",
       "    </tr>\n",
       "    <tr>\n",
       "      <th>2</th>\n",
       "      <td>Taylor Swift</td>\n",
       "      <td>Lover</td>\n",
       "      <td>Lover</td>\n",
       "      <td>2019-08-16</td>\n",
       "      <td>we could leave the christmas lights up 'til january and this is our place we make the rules and there's a dazzling haze a mysterious way about you dear have i known you 0 seconds or 0 years   can i go where you go can we always be this close forever and ever ah take me out and take me home you're my my my my lover   we could let our friends crash in the living room this is our place we make the call and i'm highly suspicious that everyone who sees you wants you i've loved you three summers now honey but i want 'em all   can i go where you go can we always be this close forever and ever ah take me out and take me home forever and ever you're my my my my lover   ladies and gentlemen will you please stand with every  string scar on my hand i take this magnetic force of a man to be my lover my heart's been borrowed and yours has been blue all's well that ends well to end up with you swear to be overdramatic and true to my lover and you'll save all your dirtiest jokes for me and at every table i'll save you a seat lover   can i go where you go can we always be this close forever and ever ah take me out and take me home forever and ever you're my my my my oh you're my my my my darling you're my my my my lover</td>\n",
       "    </tr>\n",
       "    <tr>\n",
       "      <th>3</th>\n",
       "      <td>Taylor Swift</td>\n",
       "      <td>​the 1</td>\n",
       "      <td>folklore</td>\n",
       "      <td>2020-07-24</td>\n",
       "      <td>i'm doing good i'm on some new shit been saying yes instead of no i thought i saw you at the bus stop i didn't though i hit the ground running each night i hit the sunday matinée you know the greatest films of all time were never made  pre i guess you never know never know and if you wanted me you really should've showed and if you never bleed you're never gonna grow and it's alright now   but we were something don't you think so roaring twenties tossing pennies in the pool and if my wishes came true it would've been you in my defense i have none for never leaving well enough alone but it would've been fun if you would've been the one ooh   i have this dream you're doing cool shit having adventures on your own you meet some woman on the internet and take her home we never painted by the numbers baby but we were making it count you know the greatest loves of all time are over now  pre i guess you never know never know and it's another day waking up alone   but we were something don't you think so roaring twenties tossing pennies in the pool and if my wishes came true it would've been you in my defense i have none for never leaving well enough alone but it would've been fun if you would've been the one   i i i persist and resist the temptation to ask you if one thing had been different would everything be different today   we were something don't you think so rosé flowing with your chosen family and it would've been sweet if it could've been me in my defense i have none for digging up the grave another time but it would've been fun if you would've been the one ooh</td>\n",
       "    </tr>\n",
       "    <tr>\n",
       "      <th>4</th>\n",
       "      <td>Taylor Swift</td>\n",
       "      <td>Look What You Made Me Do</td>\n",
       "      <td>reputation</td>\n",
       "      <td>2017-08-25</td>\n",
       "      <td>i don't like your little games don't like your tilted stage the role you made me play of the fool no i don't like you i don't like your perfect crime how you laugh when you lie you said the gun was mine isn't cool no i don't like you oh  pre but i got smarter i got harder in the nick of time honey i rose up from the dead i do it all the time i've got a list of names and yours is in red underlined i check it once then i check it twice oh   ooh look what you made me do look what you made me do look what you just made me do look what you just made me ooh look what you made me do look what you made me do look what you just made me do look what you just made me do   i don't like your kingdom keys they once belonged to me you asked me for a place to sleep locked me out and threw a feast what the world moves on another day another drama drama but not for me not for me all i think about is karma and then the world moves on but one thing's for sure maybe i got mine but you'll all get yours  pre but i got smarter i got harder in the nick of time honey i rose up from the dead i do it all the time i've got a list of names and yours is in red underlined i check it once then i check it twice oh   ooh look what you made me do look what you made me do look what you just made me do look what you just made me ooh look what you made me do look what you made me do look what you just made me do look what you just made me do   i don't trust nobody and nobody trusts me i'll be the actress starring in your bad dreams i don't trust nobody and nobody trusts me i'll be the actress starring in your bad dreams i don't trust nobody and nobody trusts me i'll be the actress starring in your bad dreams i don't trust nobody and nobody trusts me i'll be the actress starring in your bad dreams ooh look what you made me do look what you made me do look what you just made me do look what you just made me ooh look what you made me do look what you made me do look what you just made me i'm sorry the o...</td>\n",
       "    </tr>\n",
       "    <tr>\n",
       "      <th>...</th>\n",
       "      <td>...</td>\n",
       "      <td>...</td>\n",
       "      <td>...</td>\n",
       "      <td>...</td>\n",
       "      <td>...</td>\n",
       "    </tr>\n",
       "    <tr>\n",
       "      <th>474</th>\n",
       "      <td>Taylor Swift</td>\n",
       "      <td>Teardrops on my Guitar (Live from Clear Channel Stripped 2008)</td>\n",
       "      <td>Live From Clear Channel Stripped 2008</td>\n",
       "      <td>2008-06-28</td>\n",
       "      <td>drew looks at me i fake a smile so he won't see that i want and i'm needing everything that we should be  pre  i'll bet she's beautiful that girl he talks about and she's got everything that i have to live without   drew talks to me i laugh 'cause it's so damn funny that i can't even see anyone when he's with me  pre  he says he's so in love he's finally got it right i wonder if he knows he's all i think about at night   he's the reason for the teardrops on my  the only thing that keeps me wishing on a wishing star he's the song in the car i keep singing don't know why i do   drew walks by me can't he tell that i can't breathe and there he goes so perfectly the kind of flawless i wish i could be  pre  she'd better hold him tight give him all her love look in those beautiful eyes and know she's lucky 'cause   he's the reason for the teardrops on my  the only thing that keeps me wishing on a wishing star he's the song in the car i keep singing don't know why i do   so i drive home alone as i turn off the light i'll put his picture down and maybe get some sleep tonight   he's the reason for the teardrops on my  the only one whos got enough of me to break my heart he's the song in the car i keep singing don't know why i do   he's the time taken up but there's never enough and he's all that i need to fall into drew looks at me i fake a smile so he won't see</td>\n",
       "    </tr>\n",
       "    <tr>\n",
       "      <th>475</th>\n",
       "      <td>Taylor Swift</td>\n",
       "      <td>Evermore [Forward]</td>\n",
       "      <td>None</td>\n",
       "      <td>2020-12-11</td>\n",
       "      <td>to put it plainly we just couldnt stop writing songs to try and put it more poetically it feels like we were standing on the edge of the folklorian woods and had a choice to turn and go back or to travel further into the forest of this music we chose to wander deeper in ive never done this before in the past ive always treated albums as oneoff eras and moved onto planning the next one after an album was released there was something different with folklore in making it i felt less like i was departing and more like i was returning i loved the escapism i found in these imaginarynot imaginary tales i loved the ways you welcomed the dreamscapes and tragedies and epic tales of love lost and found into your lives so i just kept writing them</td>\n",
       "    </tr>\n",
       "    <tr>\n",
       "      <th>476</th>\n",
       "      <td>Taylor Swift</td>\n",
       "      <td>Welcome Back Grunwald</td>\n",
       "      <td>None</td>\n",
       "      <td>NaT</td>\n",
       "      <td>turn wycd on you're on your grunwald back from the amazon ah huh huh  he's here with doctor don i heard they dropped him off in the amazon ah huh huh  he caught an anaconda ate some piranhas that's kinda disgusting but whatever makes you happy and i heard some naked boy showed him around yeah grunwald's back in town</td>\n",
       "    </tr>\n",
       "    <tr>\n",
       "      <th>477</th>\n",
       "      <td>Taylor Swift</td>\n",
       "      <td>Tolerate it (Polskie Tłumaczenie)</td>\n",
       "      <td>None</td>\n",
       "      <td>2020-12-11</td>\n",
       "      <td>zwrotka  siedzę i patrzę jak czytasz z głową pochyloną budzę się i patrzę jakl oddychasz z zamkniętymi oczyma siedzę i oglądam ciebie zauważam wszystko co robisz i czego nie robisz jesteś tyle starszy i mądrzejszy i ja  refren  czekam przy drzwiach jak małe dziecko używam najlepsze farby na twój portret nakrywam stół wykwintnymi pierdołami i patrzę jak ty to jedynie znosisz jeśli to wszystko dzieje się w mojej głowie to powiedz mi teraz powiedz mi że mylę się jakoś wiem że moja miłość powinna być celebrowana a ty ją jedynie znosisz  zwrotka  witam cię jak zwycięzcę powracającego z pola walki pobłażliwie traktuję twoje niedyskrecje siedzę i słucham poleruję talеrze aż lśnią i błyszczą jesteś tylе starszy i mądrzejszy i ja  refren  czekam przy drzwiach jak małe dziecko używam najlepsze farby na twój portret nakrywam stół wykwintnymi pierdołami i patrzę jak ty to jedynie znosisz jeśli to wszystko dzieje się w mojej głowie to powiedz mi teraz powiedz mi że mylę się jakoś wiem że moja miłość powinna być celebrowana a ty ją jedynie znosisz   kiedy cię nie było  budowałeś inne światy gdzie byłam ja gdzie ten facet który rzucałby koce na mój drut kolczasty zrobiłam z ciebie moją świątynię mój mural moje niebo a teraz błagam o przypisy w historii twojego życia rysując serca w notce o autorze zawsze zabierałam ci za dużo miejsca i czasu zakładasz że u mnie wszystko gra ale co byś zrobił gdybym  refren  wyzwoliła sie i zostawiła cię w ruinach wzięła ten sztylet we mnie i go wyjęła zyskać twój ciężar a potem go stracić uwierz mi jestem w stanie to zrobić jeśli to wszystko dzieje się w mojej głowie to powiedz mi teraz powiedz mi że mylę się jakoś wiem że moja miłość powinna być celebrowana a ty ją jedynie znosisz   siedzę i oglądam cię</td>\n",
       "    </tr>\n",
       "    <tr>\n",
       "      <th>478</th>\n",
       "      <td>Taylor Swift</td>\n",
       "      <td>Find you</td>\n",
       "      <td>None</td>\n",
       "      <td>NaT</td>\n",
       "      <td>trying just like they say just taking the step love is a piece of cake or so i thought everyone whisper life is just a twister make it full of riddles step it like a paddle just to find u but but i somewhere someplace sometime i will play the song walking down the road just to find u but but someone told me let it be hold your key make your way to the  sea u r free coz baby i'm done finding u</td>\n",
       "    </tr>\n",
       "  </tbody>\n",
       "</table>\n",
       "<p>479 rows × 5 columns</p>\n",
       "</div>"
      ],
      "text/plain": [
       "           Artist  \\\n",
       "0    Taylor Swift   \n",
       "1    Taylor Swift   \n",
       "2    Taylor Swift   \n",
       "3    Taylor Swift   \n",
       "4    Taylor Swift   \n",
       "..            ...   \n",
       "474  Taylor Swift   \n",
       "475  Taylor Swift   \n",
       "476  Taylor Swift   \n",
       "477  Taylor Swift   \n",
       "478  Taylor Swift   \n",
       "\n",
       "                                                              Title  \\\n",
       "0                                                         ​cardigan   \n",
       "1                                                            ​exile   \n",
       "2                                                             Lover   \n",
       "3                                                            ​the 1   \n",
       "4                                          Look What You Made Me Do   \n",
       "..                                                              ...   \n",
       "474  Teardrops on my Guitar (Live from Clear Channel Stripped 2008)   \n",
       "475                                              Evermore [Forward]   \n",
       "476                                           Welcome Back Grunwald   \n",
       "477                               Tolerate it (Polskie Tłumaczenie)   \n",
       "478                                                        Find you   \n",
       "\n",
       "                                      Album       Date  \\\n",
       "0                                  folklore 2020-07-24   \n",
       "1                                  folklore 2020-07-24   \n",
       "2                                     Lover 2019-08-16   \n",
       "3                                  folklore 2020-07-24   \n",
       "4                                reputation 2017-08-25   \n",
       "..                                      ...        ...   \n",
       "474  Live From Clear Channel Stripped 2008  2008-06-28   \n",
       "475                                    None 2020-12-11   \n",
       "476                                    None        NaT   \n",
       "477                                    None 2020-12-11   \n",
       "478                                    None        NaT   \n",
       "\n",
       "                                                                                                                                                                                                                                                                                                                                                                                                                                                                                                                                                                                                                                                                                                                                                                                                                                                                                                                                                                                                                                                                                                                                                                                                                                                                                                                                                                                                                                                                                                                                                                                                                                                                                                                                                                                                                                                                                                                                                                                                                                                                               Lyric  \n",
       "0                                                                                                                                                                                                                                                                                                        vintage tee brand new phone high heels on cobblestones when you are young they assume you know nothing sequin smile black lipstick sensual politics when you are young they assume you know nothing   but i knew you dancin' in your levi's drunk under a streetlight i i knew you hand under my sweatshirt baby kiss it better i  refrain and when i felt like i was an old cardigan under someone's bed you put me on and said i was your favorite   a friend to all is a friend to none chase two girls lose the one when you are young they assume you know nothing   but i knew you playing hideandseek and giving me your weekends i i knew you your heartbeat on the high line once in twenty lifetimes i  refrain and when i felt like i was an old cardigan under someone's bed you put me on and said i was your favorite   to kiss in cars and downtown bars was all we needed you drew stars around my scars but now i'm bleedin'   'cause i knew you steppin' on the last train marked me like a bloodstain i i knew you tried to change the ending peter losing wendy i i knew you leavin' like a father running like water i and when you are young they assume you know nothing   but i knew you'd linger like a tattoo kiss i knew you'd haunt all of my whatifs the smell of smoke would hang around this long 'cause i knew everything when i was young i knew i'd curse you for the longest time chasin' shadows in the grocery line i knew you'd miss me once the thrill expired and you'd be standin' in my front porch light and i knew you'd come back to me you'd come back to me and you'd come back to me and you'd come back  refrain and when i felt like i was an old cardigan under someone's bed you put me on and said i was your favorite  \n",
       "1    justin vernon i can see you standing honey with his arms around your body laughin' but the joke's not funny at all and it took you five whole minutes to pack us up and leave me with it holdin' all this love out here in the hall   justin vernon i think i've seen this film before and i didn't like the ending you're not my homeland anymore so what am i defending now you were my town now i'm in exile seein' you out i think i've seen this film before  post justin vernon ooh ooh ooh   taylor swift i can see you starin' honey like he's just your understudy like you'd get your knuckles bloody for me second third and hundredth chances balancin' on breaking branches those eyes add insult to injury   taylor swift i think i've seen this film before and i didn't like the ending i'm not your problem anymore so who am i offending now you were my crown now i'm in exile seein' you out i think i've seen this film before so i'm leaving out the side door   justin vernon taylor swift  both so step right out there is no amount of crying i can do for you all this time we always walked a very thin line you didn't even hear me out you didn't even hear me out you never gave a warning sign i gave so many signs all this time i never learned to read your mind never learned to read my mind i couldn't turn things around you never turned things around 'cause you never gave a warning sign i gave so many signs so many signs so many signs you didn't even see the signs   taylor swift  justin vernon taylor swift i think i've seen this film before and i didn't like the ending you're not my homeland anymore so what am i defending now you were my town now i'm in exile seein' you out i think i've seen this film before so i'm leavin' out the side door   justin vernon  taylor swift so step right out there is no amount of crying i can do for you all this time we always walked a very thin line you didn't even hear me out didn't even hear me out you never gave a warning sign i gave so many signs all this ti...  \n",
       "2                                                                                                                                                                                                                                                                                                                                                                                                                                                                                                                                                                                                                                                                                                                                                                                                             we could leave the christmas lights up 'til january and this is our place we make the rules and there's a dazzling haze a mysterious way about you dear have i known you 0 seconds or 0 years   can i go where you go can we always be this close forever and ever ah take me out and take me home you're my my my my lover   we could let our friends crash in the living room this is our place we make the call and i'm highly suspicious that everyone who sees you wants you i've loved you three summers now honey but i want 'em all   can i go where you go can we always be this close forever and ever ah take me out and take me home forever and ever you're my my my my lover   ladies and gentlemen will you please stand with every  string scar on my hand i take this magnetic force of a man to be my lover my heart's been borrowed and yours has been blue all's well that ends well to end up with you swear to be overdramatic and true to my lover and you'll save all your dirtiest jokes for me and at every table i'll save you a seat lover   can i go where you go can we always be this close forever and ever ah take me out and take me home forever and ever you're my my my my oh you're my my my my darling you're my my my my lover  \n",
       "3                                                                                                                                                                                                                                                                                                                                                                                                                               i'm doing good i'm on some new shit been saying yes instead of no i thought i saw you at the bus stop i didn't though i hit the ground running each night i hit the sunday matinée you know the greatest films of all time were never made  pre i guess you never know never know and if you wanted me you really should've showed and if you never bleed you're never gonna grow and it's alright now   but we were something don't you think so roaring twenties tossing pennies in the pool and if my wishes came true it would've been you in my defense i have none for never leaving well enough alone but it would've been fun if you would've been the one ooh   i have this dream you're doing cool shit having adventures on your own you meet some woman on the internet and take her home we never painted by the numbers baby but we were making it count you know the greatest loves of all time are over now  pre i guess you never know never know and it's another day waking up alone   but we were something don't you think so roaring twenties tossing pennies in the pool and if my wishes came true it would've been you in my defense i have none for never leaving well enough alone but it would've been fun if you would've been the one   i i i persist and resist the temptation to ask you if one thing had been different would everything be different today   we were something don't you think so rosé flowing with your chosen family and it would've been sweet if it could've been me in my defense i have none for digging up the grave another time but it would've been fun if you would've been the one ooh  \n",
       "4    i don't like your little games don't like your tilted stage the role you made me play of the fool no i don't like you i don't like your perfect crime how you laugh when you lie you said the gun was mine isn't cool no i don't like you oh  pre but i got smarter i got harder in the nick of time honey i rose up from the dead i do it all the time i've got a list of names and yours is in red underlined i check it once then i check it twice oh   ooh look what you made me do look what you made me do look what you just made me do look what you just made me ooh look what you made me do look what you made me do look what you just made me do look what you just made me do   i don't like your kingdom keys they once belonged to me you asked me for a place to sleep locked me out and threw a feast what the world moves on another day another drama drama but not for me not for me all i think about is karma and then the world moves on but one thing's for sure maybe i got mine but you'll all get yours  pre but i got smarter i got harder in the nick of time honey i rose up from the dead i do it all the time i've got a list of names and yours is in red underlined i check it once then i check it twice oh   ooh look what you made me do look what you made me do look what you just made me do look what you just made me ooh look what you made me do look what you made me do look what you just made me do look what you just made me do   i don't trust nobody and nobody trusts me i'll be the actress starring in your bad dreams i don't trust nobody and nobody trusts me i'll be the actress starring in your bad dreams i don't trust nobody and nobody trusts me i'll be the actress starring in your bad dreams i don't trust nobody and nobody trusts me i'll be the actress starring in your bad dreams ooh look what you made me do look what you made me do look what you just made me do look what you just made me ooh look what you made me do look what you made me do look what you just made me i'm sorry the o...  \n",
       "..                                                                                                                                                                                                                                                                                                                                                                                                                                                                                                                                                                                                                                                                                                                                                                                                                                                                                                                                                                                                                                                                                                                                                                                                                                                                                                                                                                                                                                                                                                                                                                                                                                                                                                                                                                                                                                                                                                                                                                                                                                                                               ...  \n",
       "474                                                                                                                                                                                                                                                                                                                                                                                                                                                                                                                                                                                                                                                   drew looks at me i fake a smile so he won't see that i want and i'm needing everything that we should be  pre  i'll bet she's beautiful that girl he talks about and she's got everything that i have to live without   drew talks to me i laugh 'cause it's so damn funny that i can't even see anyone when he's with me  pre  he says he's so in love he's finally got it right i wonder if he knows he's all i think about at night   he's the reason for the teardrops on my  the only thing that keeps me wishing on a wishing star he's the song in the car i keep singing don't know why i do   drew walks by me can't he tell that i can't breathe and there he goes so perfectly the kind of flawless i wish i could be  pre  she'd better hold him tight give him all her love look in those beautiful eyes and know she's lucky 'cause   he's the reason for the teardrops on my  the only thing that keeps me wishing on a wishing star he's the song in the car i keep singing don't know why i do   so i drive home alone as i turn off the light i'll put his picture down and maybe get some sleep tonight   he's the reason for the teardrops on my  the only one whos got enough of me to break my heart he's the song in the car i keep singing don't know why i do   he's the time taken up but there's never enough and he's all that i need to fall into drew looks at me i fake a smile so he won't see  \n",
       "475                                                                                                                                                                                                                                                                                                                                                                                                                                                                                                                                                                                                                                                                                                                                                                                                                                                                                                                                                                                                                                                                                                                                                                                                                                                                                                         to put it plainly we just couldnt stop writing songs to try and put it more poetically it feels like we were standing on the edge of the folklorian woods and had a choice to turn and go back or to travel further into the forest of this music we chose to wander deeper in ive never done this before in the past ive always treated albums as oneoff eras and moved onto planning the next one after an album was released there was something different with folklore in making it i felt less like i was departing and more like i was returning i loved the escapism i found in these imaginarynot imaginary tales i loved the ways you welcomed the dreamscapes and tragedies and epic tales of love lost and found into your lives so i just kept writing them  \n",
       "476                                                                                                                                                                                                                                                                                                                                                                                                                                                                                                                                                                                                                                                                                                                                                                                                                                                                                                                                                                                                                                                                                                                                                                                                                                                                                                                                                                                                                                                                                                                                                                                                                                                                                                                                                    turn wycd on you're on your grunwald back from the amazon ah huh huh  he's here with doctor don i heard they dropped him off in the amazon ah huh huh  he caught an anaconda ate some piranhas that's kinda disgusting but whatever makes you happy and i heard some naked boy showed him around yeah grunwald's back in town  \n",
       "477                                                                                                                                                                                                                                                         zwrotka  siedzę i patrzę jak czytasz z głową pochyloną budzę się i patrzę jakl oddychasz z zamkniętymi oczyma siedzę i oglądam ciebie zauważam wszystko co robisz i czego nie robisz jesteś tyle starszy i mądrzejszy i ja  refren  czekam przy drzwiach jak małe dziecko używam najlepsze farby na twój portret nakrywam stół wykwintnymi pierdołami i patrzę jak ty to jedynie znosisz jeśli to wszystko dzieje się w mojej głowie to powiedz mi teraz powiedz mi że mylę się jakoś wiem że moja miłość powinna być celebrowana a ty ją jedynie znosisz  zwrotka  witam cię jak zwycięzcę powracającego z pola walki pobłażliwie traktuję twoje niedyskrecje siedzę i słucham poleruję talеrze aż lśnią i błyszczą jesteś tylе starszy i mądrzejszy i ja  refren  czekam przy drzwiach jak małe dziecko używam najlepsze farby na twój portret nakrywam stół wykwintnymi pierdołami i patrzę jak ty to jedynie znosisz jeśli to wszystko dzieje się w mojej głowie to powiedz mi teraz powiedz mi że mylę się jakoś wiem że moja miłość powinna być celebrowana a ty ją jedynie znosisz   kiedy cię nie było  budowałeś inne światy gdzie byłam ja gdzie ten facet który rzucałby koce na mój drut kolczasty zrobiłam z ciebie moją świątynię mój mural moje niebo a teraz błagam o przypisy w historii twojego życia rysując serca w notce o autorze zawsze zabierałam ci za dużo miejsca i czasu zakładasz że u mnie wszystko gra ale co byś zrobił gdybym  refren  wyzwoliła sie i zostawiła cię w ruinach wzięła ten sztylet we mnie i go wyjęła zyskać twój ciężar a potem go stracić uwierz mi jestem w stanie to zrobić jeśli to wszystko dzieje się w mojej głowie to powiedz mi teraz powiedz mi że mylę się jakoś wiem że moja miłość powinna być celebrowana a ty ją jedynie znosisz   siedzę i oglądam cię  \n",
       "478                                                                                                                                                                                                                                                                                                                                                                                                                                                                                                                                                                                                                                                                                                                                                                                                                                                                                                                                                                                                                                                                                                                                                                                                                                                                                                                                                                                                                                                                                                                                                                                                                                                                      trying just like they say just taking the step love is a piece of cake or so i thought everyone whisper life is just a twister make it full of riddles step it like a paddle just to find u but but i somewhere someplace sometime i will play the song walking down the road just to find u but but someone told me let it be hold your key make your way to the  sea u r free coz baby i'm done finding u  \n",
       "\n",
       "[479 rows x 5 columns]"
      ]
     },
     "execution_count": 2,
     "metadata": {},
     "output_type": "execute_result"
    }
   ],
   "source": [
    "# json file to data frame\n",
    "import pandas as pd\n",
    "import json\n",
    "\n",
    "pd.options.display.max_colwidth = 2000\n",
    "\n",
    "csvFilePath = r'C:\\Users\\Sammie\\Documents\\Northwest\\44-620\\Module 4\\Lyrics\\TaylorSwift1.csv'\n",
    "fields = ['Artist', 'Title', 'Album', 'Date', 'Lyric']\n",
    "df_TaylorSwift = pd.read_csv(csvFilePath, usecols=fields)\n",
    "\n",
    "jsonFilePath = r'C:\\Users\\Sammie\\Documents\\Northwest\\44-620\\Module 4\\Lyrics\\TaylorSwift1.txt'\n",
    "f = df_TaylorSwift.to_json(jsonFilePath, indent=5, orient='records')\n",
    "pd.read_json(jsonFilePath)\n"
   ]
  },
  {
   "cell_type": "markdown",
   "metadata": {},
   "source": [
    "# Question 2"
   ]
  },
  {
   "cell_type": "markdown",
   "metadata": {},
   "source": [
    "2. Read in the contents of your file.  Print the lyrics of the song (not the entire dictionary!) and use spaCyTextBlob to perform sentiment analysis on the lyrics.  Print the polarity score of the sentiment analysis.  Given that the range of the polarity score is `[-1.0,1.0]` which corresponds to how positive or negative the text in question is, do you think the lyrics have a more positive or negative connotaion?  Answer this question in a comment in your code cell."
   ]
  },
  {
   "cell_type": "markdown",
   "metadata": {},
   "source": [
    "### Song 1 of 4: \"Red\" by Taylor Swift"
   ]
  },
  {
   "cell_type": "code",
   "execution_count": 12,
   "metadata": {},
   "outputs": [
    {
     "name": "stdout",
     "output_type": "stream",
     "text": [
      "                                                                                                                                                                                                                                                                                                                                                                                                                                                                                                                                                                                                                                                                                                                                                                                                                                                                                                                                                                                                                                                                                                                                                                                                                                                                                                                                                                                                                                                                                                                                                                                                        Lyric\n",
      "93  loving him is like driving a new maserati down a deadend street faster than the wind passionate as sin ending so suddenly loving him is like trying to change your mind once you're already flying through the free fall like the colors in autumn so bright just before they lose it all   losing him was blue like i'd never known missing him was dark grey all alone forgetting him was like trying to know somebody you never met but loving him was red loving him was red   touching him was like realizing all you ever wanted was right there in front of you memorizing him was as easy as knowing all the words to your old favorite song fighting with him was like trying to solve a crossword and realizing there's no right answer regretting him was like wishing you never found out that love could be that strong   losing him was blue like i'd never known missing him was dark grey all alone forgetting him was like trying to know somebody you never met but loving him was red oh red burning red   remembering him comes in flashbacks and echoes tell myself it's time now gotta let go but moving on from him is impossible when i still see it all in my head in burning red loving him was red   oh losing him was blue like i'd never known missing him was dark grey all alone forgetting him was like trying to know somebody you never met 'cause loving him was red yeah yeah red we're burning red  breakdown and that's why he's spinning 'round in my head comes back to me burning red yeah yeah   his love was like driving a new maserati down a deadend street\n",
      "\n",
      "The polarity score of Taylor Swift's song 'Red' is: 0.13008946608946606\n"
     ]
    }
   ],
   "source": [
    "# filter to specific song: \"Red\" by Taylor Swift\n",
    "df_Red = df_TaylorSwift[(df_TaylorSwift['Title'] == 'Red')]\n",
    "\n",
    "import spacy\n",
    "from spacytextblob.spacytextblob import SpacyTextBlob\n",
    "\n",
    "nlp = spacy.load('en_core_web_sm')\n",
    "nlp.add_pipe('spacytextblob')\n",
    "text = str(df_Red[['Lyric']])\n",
    "doc = nlp(text)\n",
    "\n",
    "Red = df_Red[['Lyric']]\n",
    "print(Red)\n",
    "print()\n",
    "print(\"The polarity score of Taylor Swift's song 'Red' is:\", doc._.blob.polarity)\n",
    "\n",
    "# export data frame to json file\n",
    "df_Red[['Lyric']].to_json(r'C:\\Users\\Sammie\\Documents\\Northwest\\44-620\\Module 4\\Lyrics\\Red.txt')"
   ]
  },
  {
   "cell_type": "markdown",
   "metadata": {},
   "source": [
    "Based on the polarity score, I would say this has a slightly positive connotation. However, the polarity score is close to 0, so I would say it is mostly neutral. I would say this song is mostly negative, so I am surprised that Spacy scored this as being more positive than negative."
   ]
  },
  {
   "cell_type": "markdown",
   "metadata": {},
   "source": [
    "# Question 3"
   ]
  },
  {
   "cell_type": "markdown",
   "metadata": {},
   "source": [
    "3. Write a function that takes an artist, song, and filename, accesses the lyrics.ovh api to get the song lyrics, and writes the results to the specified filename.  Test this function by getting the lyrics to any four songs of your choice and storing them in different files."
   ]
  },
  {
   "cell_type": "markdown",
   "metadata": {},
   "source": [
    "**Please note:** I have completed 1 song in question 2 (above - \"Red\" by Taylor Swift) and then 3 more songs below. This makes a total of four (4) songs as requested by question 3."
   ]
  },
  {
   "cell_type": "markdown",
   "metadata": {},
   "source": [
    "### Song 2 of 4: \"Our Song\" by Taylor Swift"
   ]
  },
  {
   "cell_type": "code",
   "execution_count": 4,
   "metadata": {},
   "outputs": [
    {
     "name": "stdout",
     "output_type": "stream",
     "text": [
      "                                                                                                                                                                                                                                                                                                                                                                                                                                                                                                                                                                                                                                                                                                                                                                                                                                                                                                                                                                                                                                                                                                                                                                                                                                                                                                                                                                                                                                                                                                                                                                                                                                                                                                                                                                                                                                      Lyric\n",
      "121  i was riding shotgun with my hair undone in the front seat of his car he's got a onehand feel on the steering wheel the other on my heart i look around turn the radio down he says baby is something wrong i say nothing i was just thinking how we don't have a song and he says   our song is the slamming screen door sneakin' out late tapping on your window when we're on the phone and you talk real slow 'cause it's late and your mama don't know our song is the way you laugh the first date man i didn't kiss her and i should have and when i got home 'fore i said amen asking god if he could play it again   i was walking up the front porch steps after everything that day had gone all wrong and been trampled on and lost and thrown away got to the hallway well on my way to my lovin' bed i almost didn't notice all the roses and the note that said   our song is the slamming screen door sneakin' out late tapping on your window when we're on the phone and you talk real slow 'cause it's late and your mama don't know our song is the way you laugh the first date man i didn't kiss her and i should have and when i got home 'fore i said amen asking god if he could play it again   i've heard every album listened to the radio waited for something to come along that was as good as our song   'cause our song is the slamming screen door sneakin' out late tapping on his window when we're on the phone and he talks real slow 'cause it's late and his mama don't know our song is the way he laughs the first date man i didn't kiss him and i should have and when i got home 'fore i said amen asking god if he could play it again play it again   i was riding shotgun with my hair undone in the front seat of his car i grabbed a pen and an old napkin and i wrote down our song\n"
     ]
    }
   ],
   "source": [
    "# filter to specific song: \"Our Song\" by Taylor Swift\n",
    "df_OurSong = df_TaylorSwift[(df_TaylorSwift['Title'] == 'Our Song')]\n",
    "\n",
    "# print lyrics\n",
    "OurSong = df_OurSong[['Lyric']]\n",
    "print(OurSong)\n",
    "\n",
    "# export data frame to json file\n",
    "df_OurSong[['Lyric']].to_json(r'C:\\Users\\Sammie\\Documents\\Northwest\\44-620\\Module 4\\Lyrics\\OurSong.txt')"
   ]
  },
  {
   "cell_type": "markdown",
   "metadata": {},
   "source": [
    "### Song 3 of 4: \"Mean\" by Taylor Swift"
   ]
  },
  {
   "cell_type": "code",
   "execution_count": 5,
   "metadata": {},
   "outputs": [
    {
     "name": "stdout",
     "output_type": "stream",
     "text": [
      "                                                                                                                                                                                                                                                                                                                                                                                                                                                                                                                                                                                                                                                                                                                                                                                                                                                                                                                                                                                                                                                                                                                                                                                                                                                                                                                                                                                                                                                                                                                                                                                                                                                                                                                                                                                                                                                                                                                                                                                                                                                Lyric\n",
      "110  you with your words like knives and swords and weapons that you use against me you have knocked me off my feet again got me feeling like i'm nothing you with your voice like nails on a chalkboard calling me out when i'm wounded you picking on the weaker man  pre well you can take me down with just one single blow but you don't know what you don't know   someday i'll be living in a big old city and all you're ever gonna be is mean someday i'll be big enough so you can't hit me and all you're ever gonna be is mean why you gotta be so mean   you with your switching sides and your wildfire lies and your humiliation you have pointed out my flaws again as if i don't already see them i walk with my head down trying to block you out 'cause i'll never impress you i just wanna feel okay again  pre i bet you got pushed around somebody made you cold but the cycle ends right now 'cause you can't lead me down that road and you don't know what you don't know   someday i'll be living in a big old city and all you're ever gonna be is mean someday i'll be big enough so you can't hit me and all you're ever gonna be is mean why you gotta be so mean   and i can see you years from now in a bar talking over a football game with that same big loud opinion but nobody's listening washed up and ranting about the same old bitter things drunk and grumbling on about how i can't sing but all you are is mean all you are is mean and a liar and pathetic and alone in life and mean and mean and mean and mean  breakdown but someday i'll be living in a big old city and all you're ever gonna be is mean yeah   someday i'll be big enough so you can't hit me and all you're ever gonna be is mean why you gotta be so mean someday i'll be living in a big old city why you gotta be so mean and all you're ever gonna be is mean why you gotta be so mean someday i'll be big enough so you can't hit me why you gotta be so mean and all you're ever gonna be is mean why you gotta be so mean\n"
     ]
    }
   ],
   "source": [
    "# filter to specific song: \"Mean\" by Taylor Swift\n",
    "df_Mean = df_TaylorSwift[(df_TaylorSwift['Title'] == 'Mean')]\n",
    "\n",
    "# print lyrics\n",
    "Mean = df_Mean[['Lyric']]\n",
    "print(Mean)\n",
    "\n",
    "# export data frame to json file\n",
    "df_Mean[['Lyric']].to_json(r'C:\\Users\\Sammie\\Documents\\Northwest\\44-620\\Module 4\\Lyrics\\Mean.txt')"
   ]
  },
  {
   "cell_type": "markdown",
   "metadata": {},
   "source": [
    "### Song 4 of 4: \"Welcome to New York\" by Taylor Swift"
   ]
  },
  {
   "cell_type": "code",
   "execution_count": 6,
   "metadata": {},
   "outputs": [
    {
     "name": "stdout",
     "output_type": "stream",
     "text": [
      "                                                                                                                                                                                                                                                                                                                                                                                                                                                                                                                                                                                                                                                                                                                                                                                                                                                                                                                                                                                                                                                                                                                                                                                                                                                                                                                                                                                                                                                                                                                                                                                                                                                                                                                                                                                                                                                                                          Lyric\n",
      "94  walking through a crowd the village is aglow kaleidoscope of loud heartbeats under coats everybody here wanted something more searching for a sound we hadn't heard before and it said   welcome to new york it's been waiting for you welcome to new york welcome to new york welcome to new york it's been waiting for you welcome to new york welcome to new york it's a new soundtrack i could dance to this beat beat forevermore the lights are so bright but they never blind me me welcome to new york it's been waiting for you welcome to new york welcome to new york   when we first dropped our bags on apartment floors took our broken hearts put them in a drawer everybody here was someone else before and you can want who you want boys and boys and girls and girls   welcome to new york it's been waiting for you welcome to new york welcome to new york welcome to new york it's been waiting for you welcome to new york welcome to new york it's a new soundtrack i could dance to this beat beat forevermore the lights are so bright but they never blind me me welcome to new york new york it's been waiting for you welcome to new york welcome to new york   like any great love it keeps you guessing like any real love it's everchanging like any true love it drives you crazy but you know you wouldn't change anything anything anything   welcome to new york it's been waiting for you welcome to new york welcome to new york welcome to new york it's been waiting for you welcome to new york welcome to new york it's a new soundtrack i could dance to this beat the lights are so bright but they never blind me welcome to new york new soundtrack it's been waiting for you welcome to new york the lights are so bright but they never blind me welcome to new york so bright they never blind me welcome to new york welcome to new york\n"
     ]
    }
   ],
   "source": [
    "# filter to specific song: \"Welcome to New York\" by Taylor Swift\n",
    "df_NY = df_TaylorSwift[(df_TaylorSwift['Title'] == 'Welcome to New York')]\n",
    "\n",
    "# print lyrics\n",
    "NY = df_NY[['Lyric']]\n",
    "print(NY)\n",
    "\n",
    "# export data frame to json file\n",
    "df_NY[['Lyric']].to_json(r'C:\\Users\\Sammie\\Documents\\Northwest\\44-620\\Module 4\\Lyrics\\WelcomeToNewYork.txt')"
   ]
  },
  {
   "cell_type": "markdown",
   "metadata": {},
   "source": [
    "# Question 4"
   ]
  },
  {
   "cell_type": "markdown",
   "metadata": {},
   "source": [
    "4. Write a function that takes the name of a file that contains song lyrics, loads the file, performs sentiment analysis, and returns the polarity score.  Use this function to print the polarity scores (with the name of the song) of the three files you created in question 3.  Does the reported polarity match your understanding of the song's lyrics? Why or why not do you think that might be?  Answer the questions in either a comment in the code cell or a markdown cell under the code cell."
   ]
  },
  {
   "cell_type": "markdown",
   "metadata": {},
   "source": [
    "### Song 2 of 4: \"Our Song\" by Taylor Swift"
   ]
  },
  {
   "cell_type": "code",
   "execution_count": 7,
   "metadata": {},
   "outputs": [
    {
     "name": "stdout",
     "output_type": "stream",
     "text": [
      "The polarity score of Taylor Swift's song 'Our Song' is: -0.09936868686868686\n"
     ]
    }
   ],
   "source": [
    "text = str(df_OurSong[['Lyric']])\n",
    "doc = nlp(text)\n",
    "\n",
    "print(\"The polarity score of Taylor Swift's song 'Our Song' is:\", doc._.blob.polarity)"
   ]
  },
  {
   "cell_type": "markdown",
   "metadata": {},
   "source": [
    "Based on the polarity score, I would say this has a slightly negative connotation. However, the polarity score is close to 0, so I would say it is mostly neutral. I would say that \"Our Song\" is a pretty light-hearted and positive song. It does use words like 'slamming,' 'didn't,' and 'should have' so this is probably why Spacy's sentiment analysis thinks it is slightly negative."
   ]
  },
  {
   "cell_type": "markdown",
   "metadata": {},
   "source": [
    "### Song 3 of 4: \"Mean\" by Taylor Swift"
   ]
  },
  {
   "cell_type": "code",
   "execution_count": 8,
   "metadata": {},
   "outputs": [
    {
     "name": "stdout",
     "output_type": "stream",
     "text": [
      "The polarity score of Taylor Swift's song 'Mean' is: -0.14934964726631395\n"
     ]
    }
   ],
   "source": [
    "text = str(df_Mean[['Lyric']])\n",
    "doc = nlp(text)\n",
    "\n",
    "print(\"The polarity score of Taylor Swift's song 'Mean' is:\", doc._.blob.polarity)"
   ]
  },
  {
   "cell_type": "markdown",
   "metadata": {},
   "source": [
    "Based on the polarity score, I would say this has a slightly negative connotation. However, the polarity score is close to 0, so I would say it is mostly neutral. I would say this has a somewhat negative connotation, but is about overcoming the mean words that have been said to you, so I think it balances out to be mostly neutral. I would say this was an accurate analysis."
   ]
  },
  {
   "cell_type": "markdown",
   "metadata": {},
   "source": [
    "### Song 4 of 4: \"Welcome to New York\" by Taylor Swift"
   ]
  },
  {
   "cell_type": "code",
   "execution_count": 9,
   "metadata": {},
   "outputs": [
    {
     "name": "stdout",
     "output_type": "stream",
     "text": [
      "The polarity score of Taylor Swift's song 'Welcome to New York' is: 0.41844608879492606\n"
     ]
    }
   ],
   "source": [
    "text = str(df_NY[['Lyric']])\n",
    "doc = nlp(text)\n",
    "\n",
    "print(\"The polarity score of Taylor Swift's song 'Welcome to New York' is:\", doc._.blob.polarity)"
   ]
  },
  {
   "cell_type": "markdown",
   "metadata": {},
   "source": [
    "Based on the polarity score, I would say this has a positive connotation. This is the most polarized song out of the 4 songs I chose according to Spacy's sentiment analysis. I agree that this is a mostly positive song. I would have expected Spacy's sentiment analysis to have rated this even more positive than it did."
   ]
  },
  {
   "cell_type": "markdown",
   "metadata": {},
   "source": [
    "# Other APIs"
   ]
  },
  {
   "cell_type": "code",
   "execution_count": 10,
   "metadata": {},
   "outputs": [
    {
     "name": "stdout",
     "output_type": "stream",
     "text": [
      "[{'fact': 'Greyhounds appear to be the most ancient dog breed. \"Greyhound\" comes from a mistake in translating the early German name Greishund, which means \"old\" or \"ancient dog\" not from the color gray.'}, {'fact': 'Dogs can use their sense of smell to gauge our emotions, they can smell fear, anxiety, even sadness. This is because they can smell hormones such as adrenaline.'}, {'fact': 'In early Christian tradition, Saint Christopher, the patron saint of travelers, is sometimes depicted with a dog’s head.'}, {'fact': 'Female dogs are only ready to mate–\"in heat\"–twice a year for a total of roughly 20 days.'}, {'fact': 'The current world record for a Flyball race is 14.413 seconds, set by the team \"Touch N Go\" of Las Vegas.'}, {'fact': 'The earliest dog fossil dates back to nearly 10,000 B.C.'}, {'fact': 'Pregnancy can be prevented by spaying the female dog, this involves removing both the ovaries and the uterus.'}, {'fact': 'Humans generally see better than dogs, but dogs see much better when there is low-light.'}, {'fact': 'A German Shepherd named Orient accompanied her blind owner Bill Irwin as he became the first blind person to through-hike the 2,100-mile Appalachian Trail in 1990.'}, {'fact': 'Teams of dogs compete for the fastest time without errors in Flyball races.'}]\n"
     ]
    }
   ],
   "source": [
    "# Loaded Random Dog Facts API\n",
    "import requests\n",
    "import json\n",
    "\n",
    "result = json.loads(requests.get('https://dog-facts-api.herokuapp.com/api/v1/resources/dogs?number=10').text)\n",
    "print(result)"
   ]
  },
  {
   "cell_type": "code",
   "execution_count": 11,
   "metadata": {},
   "outputs": [
    {
     "name": "stdout",
     "output_type": "stream",
     "text": [
      "[{'title': 'A Dream Within A Dream', 'author': 'Edgar Allan Poe', 'lines': ['Take this kiss upon the brow!', 'And, in parting from you now,', 'Thus much let me avow--', 'You are not wrong, who deem', 'That my days have been a dream:', 'Yet if hope has flown away', 'In a night, or in a day,', 'In a vision or in none,', 'Is it therefore the less _gone_?', '_All_ that we see or seem', 'Is but a dream within a dream.', '', 'I stand amid the roar', 'Of a surf-tormented shore,', 'And I hold within my hand', 'Grains of the golden sand--', 'How few! yet how they creep', 'Through my fingers to the deep', 'While I weep--while I weep!', 'O God! can I not grasp', 'Them with a tighter clasp?', 'O God! can I not save', '_One_ from the pitiless wave?', 'Is _all_ that we see or seem', 'But a dream within a dream?'], 'linecount': '24'}]\n"
     ]
    }
   ],
   "source": [
    "# loaded poetry API after I was able to get the downloaded files from Kaggle to work. Didn't know using poetry was an option \n",
    "# if we couldn't get the lyrical API to work\n",
    "\n",
    "import requests\n",
    "import json\n",
    "\n",
    "result = json.loads(requests.get(f'https://poetrydb.org/author,title/Edgar%20Allan%20Poe;A%20Dream%20Within%20A%20Dream').text)\n",
    "print(result)"
   ]
  }
 ],
 "metadata": {
  "kernelspec": {
   "display_name": "Python 3 (ipykernel)",
   "language": "python",
   "name": "python3"
  },
  "language_info": {
   "codemirror_mode": {
    "name": "ipython",
    "version": 3
   },
   "file_extension": ".py",
   "mimetype": "text/x-python",
   "name": "python",
   "nbconvert_exporter": "python",
   "pygments_lexer": "ipython3",
   "version": "3.9.7"
  }
 },
 "nbformat": 4,
 "nbformat_minor": 4
}
